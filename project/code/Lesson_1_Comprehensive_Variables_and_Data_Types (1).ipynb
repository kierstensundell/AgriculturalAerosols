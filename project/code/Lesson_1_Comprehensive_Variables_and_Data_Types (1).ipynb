{
 "cells": [
  {
   "cell_type": "markdown",
   "id": "bb76a11b-43a3-4b70-b993-35d5716a172a",
   "metadata": {},
   "source": [
    "\n",
    "# Lesson 1: Variables and Data Types\n",
    "\n",
    "Welcome to Lesson 1 of the NASA SARP Python Coding Track. This notebook covers:\n",
    "\n",
    "- What is a variable?\n",
    "- Python's basic data types\n",
    "- Assigning and using variables\n",
    "- Boolean logic and if-statements\n",
    "- Debugging common errors\n",
    "- Practice questions\n",
    "\n",
    "Let's dive in!\n"
   ]
  },
  {
   "cell_type": "markdown",
   "id": "3fc0ebda-7546-4239-9853-b29bd9754d34",
   "metadata": {},
   "source": [
    "\n",
    "# Lesson 1: Variables and Data Types\n",
    "\n",
    "Welcome to Lesson 1 of the NASA SARP Python Coding Track. This notebook covers:\n",
    "\n",
    "- What is a variable?\n",
    "- Python's basic data types\n",
    "- Assigning and using variables\n",
    "- Boolean logic and if-statements\n",
    "- Debugging common errors\n",
    "- Practice questions\n",
    "\n",
    "Let's dive in!\n"
   ]
  },
  {
   "cell_type": "markdown",
   "id": "d277250c",
   "metadata": {},
   "source": [
    "\n",
    "## What is a Variable?\n",
    "\n",
    "Think of a variable as a labeled container that stores a value you want to reuse.\n",
    "\n",
    "### Example:\n",
    "```python\n",
    "temperature = 32\n",
    "```\n",
    "This stores the value `32` in a variable called `temperature`. You can use this variable later in your code.\n",
    "\n",
    "### Why use variables?\n",
    "- To make your code readable\n",
    "- To store input or calculated values\n",
    "- To make your code flexible and reusable\n"
   ]
  },
  {
   "cell_type": "code",
   "execution_count": 1,
   "id": "6bf682ac",
   "metadata": {},
   "outputs": [
    {
     "name": "stdout",
     "output_type": "stream",
     "text": [
      "City: Pasadena\n",
      "PM2.5: 12.3\n",
      "Air quality clean? True\n"
     ]
    }
   ],
   "source": [
    "\n",
    "# Try it yourself: assign values to some variables\n",
    "city = \"Pasadena\"\n",
    "pm25 = 12.3\n",
    "is_clean = pm25 < 15\n",
    "\n",
    "print(\"City:\", city)\n",
    "print(\"PM2.5:\", pm25)\n",
    "print(\"Air quality clean?\", is_clean)\n"
   ]
  },
  {
   "cell_type": "markdown",
   "id": "1b865622",
   "metadata": {},
   "source": [
    "\n",
    "## Python's Built-in Data Types\n",
    "\n",
    "Python has many types of data. The most common:\n",
    "\n",
    "| Data Type | Description | Example |\n",
    "|-----------|-------------|---------|\n",
    "| `int`     | Integer     | `5`, `-3`, `1000` |\n",
    "| `float`   | Decimal     | `3.14`, `-0.001`, `100.0` |\n",
    "| `str`     | Text        | `\"NASA\"`, `'Air Quality'` |\n",
    "| `bool`    | Boolean     | `True`, `False` |\n",
    "\n",
    "Python automatically detects the type when you assign a value.\n"
   ]
  },
  {
   "cell_type": "code",
   "execution_count": 2,
   "id": "c7430eef",
   "metadata": {},
   "outputs": [
    {
     "name": "stdout",
     "output_type": "stream",
     "text": [
      "<class 'str'>\n",
      "<class 'int'>\n",
      "<class 'float'>\n",
      "<class 'bool'>\n"
     ]
    }
   ],
   "source": [
    "\n",
    "# Try assigning one of each data type\n",
    "name = \"Sufian\"\n",
    "age = 34\n",
    "gpa = 3.8\n",
    "has_passed = True\n",
    "\n",
    "print(type(name))\n",
    "print(type(age))\n",
    "print(type(gpa))\n",
    "print(type(has_passed))\n"
   ]
  },
  {
   "cell_type": "markdown",
   "id": "1cc10f65",
   "metadata": {},
   "source": [
    "\n",
    "## Type Conversion\n",
    "\n",
    "You can convert between types using functions like `int()`, `float()`, and `str()`.\n",
    "\n",
    "### Example:\n"
   ]
  },
  {
   "cell_type": "code",
   "execution_count": 3,
   "id": "cf805371",
   "metadata": {},
   "outputs": [
    {
     "name": "stdout",
     "output_type": "stream",
     "text": [
      "100\n"
     ]
    }
   ],
   "source": [
    "\n",
    "score = \"95\"\n",
    "score_int = int(score)\n",
    "print(score_int + 5)  # should print 100\n"
   ]
  },
  {
   "cell_type": "markdown",
   "id": "ebd03081",
   "metadata": {},
   "source": [
    "\n",
    "## Controlling Code with `if` Statements\n",
    "\n",
    "Use `if` statements to run code based on a condition.\n",
    "\n",
    "### Structure:\n",
    "```python\n",
    "if condition:\n",
    "    # do something\n",
    "elif other_condition:\n",
    "    # do something else\n",
    "else:\n",
    "    # default\n",
    "```\n",
    "\n",
    "### Example:\n"
   ]
  },
  {
   "cell_type": "code",
   "execution_count": 9,
   "id": "cc3a7fc3",
   "metadata": {},
   "outputs": [
    {
     "name": "stdout",
     "output_type": "stream",
     "text": [
      "Holy smokes we're burning\n"
     ]
    }
   ],
   "source": [
    "\n",
    "temperature = 104\n",
    "\n",
    "if 90 <= temperature <=99:\n",
    "    print(\"It's really hot!\")\n",
    "elif 80 <= temperature <= 90:\n",
    "    print(\"It's hot!\")\n",
    "elif 100 <= temperature <= 115:\n",
    "    print (\"Holy smokes we're burning\")\n",
    "elif temperature > 115:\n",
    "    print (\"girl shoot we're burning in the firey pits of hell\")\n",
    "elif temperature > 75:\n",
    "    print(\"It's warm.\")\n",
    "else:\n",
    "    print(\"It's cool.\")\n"
   ]
  },
  {
   "cell_type": "markdown",
   "id": "20ef74a8",
   "metadata": {},
   "source": [
    "\n",
    "## Practice: Teen Checker\n",
    "\n",
    "Use conditionals to print if someone is a \"child\", \"teen\", or \"adult\".\n"
   ]
  },
  {
   "cell_type": "code",
   "execution_count": 2,
   "id": "d7599378",
   "metadata": {},
   "outputs": [
    {
     "name": "stdout",
     "output_type": "stream",
     "text": [
      "Adult\n"
     ]
    }
   ],
   "source": [
    "\n",
    "age = 25\n",
    "\n",
    "if age < 13:\n",
    "    print(\"Child\")\n",
    "elif 13 <= age <= 19:\n",
    "    print(\"Teen\")\n",
    "else:\n",
    "    print(\"Adult\")\n"
   ]
  },
  {
   "cell_type": "markdown",
   "id": "c0ba9a86",
   "metadata": {},
   "source": [
    "\n",
    "## Debugging Common Errors\n",
    "\n",
    "| Error | Cause | Example |\n",
    "|-------|-------|---------|\n",
    "| `NameError` | Variable not defined | `print(temp)` when `temp` was never assigned |\n",
    "| `TypeError` | Wrong operation on wrong type | `\"5\" + 1` |\n",
    "| `SyntaxError` | Bad punctuation or spacing | `if x = 5` (should be `==`) |\n"
   ]
  },
  {
   "cell_type": "code",
   "execution_count": 21,
   "id": "2cf5f69d",
   "metadata": {},
   "outputs": [
    {
     "name": "stdout",
     "output_type": "stream",
     "text": [
      "18\n",
      "   kiersten is cool      kiersten is cool   \n"
     ]
    }
   ],
   "source": [
    "\n",
    "# Uncomment each line one at a time to see the error and learn from it!\n",
    "\n",
    "# NameError\n",
    "unknown_variable = 18\n",
    "print(unknown_variable)\n",
    "\n",
    "# TypeError\n",
    "print(\"   kiersten is cool   \" * 2)\n",
    "\n",
    "# SyntaxError (do not run!)\n",
    "# if x = 5:\n",
    "#  print(x)\n"
   ]
  },
  {
   "cell_type": "markdown",
   "id": "d09b9dde",
   "metadata": {},
   "source": [
    "\n",
    "## Mini Quiz\n",
    "\n",
    "Try answering these in your notebook:\n",
    "\n",
    "1. What does `=` mean in Python?\n",
    "2. What is the difference between `int` and `float`?\n",
    "3. What does this print?\n",
    "\n",
    "```python\n",
    "x = 10\n",
    "if x == 10:\n",
    "    print(\"Ten!\")\n",
    "```\n",
    "\n",
    "Try your answers below:\n"
   ]
  },
  {
   "cell_type": "code",
   "execution_count": 7,
   "id": "f2d243ab",
   "metadata": {},
   "outputs": [],
   "source": [
    "# 1. idk\n",
    "# 2. integer is whole number, float is a decimal\n",
    "# 3. whatever you have inside the print parentheses "
   ]
  },
  {
   "cell_type": "markdown",
   "id": "090e59cb",
   "metadata": {},
   "source": [
    "\n",
    "## Final Practice\n",
    "\n",
    "Write a program that:\n",
    "- Stores your name, age, and favorite subject in variables\n",
    "- Prints a sentence with those values\n",
    "- Uses an `if` statement to print a message if your age is under 18\n"
   ]
  },
  {
   "cell_type": "code",
   "execution_count": 35,
   "id": "36040e7d",
   "metadata": {},
   "outputs": [
    {
     "name": "stdout",
     "output_type": "stream",
     "text": [
      "kiersten is 21 years old and she likes environmental science or art\n"
     ]
    }
   ],
   "source": [
    "name = \"kiersten\"\n",
    "age = 21\n",
    "favorite_subject = \"environmental science or art\" \n",
    "\n",
    "\n",
    "print (name + \" is\", age, \"years old and she likes\", favorite_subject)\n",
    "#you need the \"plus\" after only text (NOT INTEGERS), and only when you are combining sentences.\n",
    "#commas are only necessary when you are continuing the sentence, and not when there is a +"
   ]
  },
  {
   "cell_type": "markdown",
   "id": "ddcb0b3c-cf6f-47d0-bef6-cb5cd9bfa57d",
   "metadata": {},
   "source": [
    "End of Class Survey: [https://docs.google.com/forms/d/e/1FAIpQLSfU-2bjATr3Bra3QyAgnWSZBXCK53xVvaga7WIInnYY6805yw/viewform?usp=sharing&ouid=115726911617976116444]"
   ]
  }
 ],
 "metadata": {
  "kernelspec": {
   "display_name": "Python 3 (ipykernel)",
   "language": "python",
   "name": "python3"
  },
  "language_info": {
   "codemirror_mode": {
    "name": "ipython",
    "version": 3
   },
   "file_extension": ".py",
   "mimetype": "text/x-python",
   "name": "python",
   "nbconvert_exporter": "python",
   "pygments_lexer": "ipython3",
   "version": "3.11.11"
  }
 },
 "nbformat": 4,
 "nbformat_minor": 5
}
