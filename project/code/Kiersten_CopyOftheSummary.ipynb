{
 "cells": [
  {
   "cell_type": "markdown",
   "id": "1d49e43c",
   "metadata": {},
   "source": [
    "# NASA SARP Comprehensive Python Cheatsheet (week 1)\n",
    "\n",
    "It covers:\n",
    "- Python basics: variables, conditionals, lists, dictionaries\n",
    "- Tabular data using Pandas\n",
    "- Scientific multidimensional data using Xarray\n",
    "- Advanced data handling techniques\n",
    "- NASA/Earth science-specific examples\n"
   ]
  },
  {
   "cell_type": "markdown",
   "id": "0faaf309",
   "metadata": {},
   "source": [
    "## SECTION 1: Python Foundations"
   ]
  },
  {
   "cell_type": "markdown",
   "id": "4215958b",
   "metadata": {},
   "source": [
    "### 🔹 Variables and Data Types"
   ]
  },
  {
   "cell_type": "code",
   "execution_count": 12,
   "id": "ea51e60f",
   "metadata": {},
   "outputs": [
    {
     "name": "stdout",
     "output_type": "stream",
     "text": [
      "Team: SARP, PM2.5: 15.4, Safe? True\n"
     ]
    }
   ],
   "source": [
    "name = \"SARP\"\n",
    "age = 17\n",
    "pm_value = 15.4\n",
    "is_safe = pm_value < 35\n",
    "print(f\"Team: {name}, PM2.5: {pm_value}, Safe? {is_safe}\")\n",
    "#f is for decimals "
   ]
  },
  {
   "cell_type": "markdown",
   "id": "3fb78a52",
   "metadata": {},
   "source": [
    "### 🔹 Type Conversion"
   ]
  },
  {
   "cell_type": "code",
   "execution_count": 13,
   "id": "6382763c",
   "metadata": {},
   "outputs": [
    {
     "name": "stdout",
     "output_type": "stream",
     "text": [
      "120\n"
     ]
    }
   ],
   "source": [
    "value = \"100\"\n",
    "value_int = int(value)\n",
    "print(value_int + 20)"
   ]
  },
  {
   "cell_type": "markdown",
   "id": "94745eba",
   "metadata": {},
   "source": [
    "### 🔹 Conditional Statements"
   ]
  },
  {
   "cell_type": "code",
   "execution_count": 14,
   "id": "8439aa1d",
   "metadata": {},
   "outputs": [
    {
     "name": "stdout",
     "output_type": "stream",
     "text": [
      "Warm\n"
     ]
    }
   ],
   "source": [
    "temp = 87\n",
    "if temp > 90:\n",
    "    print(\"Too Hot\")\n",
    "elif temp > 75:\n",
    "    print(\"Warm\")\n",
    "else:\n",
    "    print(\"Mild\")"
   ]
  },
  {
   "cell_type": "markdown",
   "id": "8f721104",
   "metadata": {},
   "source": [
    "### 🔹 Lists and List Operations"
   ]
  },
  {
   "cell_type": "code",
   "execution_count": 15,
   "id": "fd074739",
   "metadata": {},
   "outputs": [
    {
     "name": "stdout",
     "output_type": "stream",
     "text": [
      "['NO2', 'PM2.5', 'O3']\n"
     ]
    }
   ],
   "source": [
    "sensors = [\"NO2\", \"CO\", \"PM2.5\"]\n",
    "sensors.append(\"O3\")\n",
    "sensors.remove(\"CO\")\n",
    "print(sensors)"
   ]
  },
  {
   "cell_type": "markdown",
   "id": "3f1eecf7",
   "metadata": {},
   "source": [
    "### 🔹 Dictionaries and Access"
   ]
  },
  {
   "cell_type": "code",
   "execution_count": 16,
   "id": "5d2ba4e0",
   "metadata": {},
   "outputs": [
    {
     "name": "stdout",
     "output_type": "stream",
     "text": [
      "42.7\n"
     ]
    }
   ],
   "source": [
    "reading = {\n",
    "    \"location\": \"Pasadena\", \n",
    "    \"key2\": 42.7, \n",
    "    \"unit\": \"µg/m³\"\n",
    "}\n",
    "\n",
    "print(reading['key2']) #returns 42.7"
   ]
  },
  {
   "cell_type": "markdown",
   "id": "61ce33dc",
   "metadata": {},
   "source": [
    "## SECTION 2: Tabular Data Analysis with Pandas"
   ]
  },
  {
   "cell_type": "code",
   "execution_count": 17,
   "id": "cc7c7759",
   "metadata": {},
   "outputs": [],
   "source": [
    "import pandas as pd\n",
    "import numpy as np\n",
    "import matplotlib.pyplot as plt\n",
    "import seaborn as sns\n",
    "sns.set(style='whitegrid')"
   ]
  },
  {
   "cell_type": "markdown",
   "id": "a38405fa",
   "metadata": {},
   "source": [
    "### 🔹 Load Titanic Dataset"
   ]
  },
  {
   "cell_type": "code",
   "execution_count": 18,
   "id": "38f4e0a4",
   "metadata": {},
   "outputs": [
    {
     "data": {
      "text/html": [
       "<div>\n",
       "<style scoped>\n",
       "    .dataframe tbody tr th:only-of-type {\n",
       "        vertical-align: middle;\n",
       "    }\n",
       "\n",
       "    .dataframe tbody tr th {\n",
       "        vertical-align: top;\n",
       "    }\n",
       "\n",
       "    .dataframe thead th {\n",
       "        text-align: right;\n",
       "    }\n",
       "</style>\n",
       "<table border=\"1\" class=\"dataframe\">\n",
       "  <thead>\n",
       "    <tr style=\"text-align: right;\">\n",
       "      <th></th>\n",
       "      <th>Name</th>\n",
       "      <th>Column1</th>\n",
       "      <th>Column2</th>\n",
       "      <th>Column3</th>\n",
       "    </tr>\n",
       "  </thead>\n",
       "  <tbody>\n",
       "    <tr>\n",
       "      <th>0</th>\n",
       "      <td>Test</td>\n",
       "      <td>22</td>\n",
       "      <td>123</td>\n",
       "      <td>123</td>\n",
       "    </tr>\n",
       "    <tr>\n",
       "      <th>1</th>\n",
       "      <td>TEst2</td>\n",
       "      <td>2</td>\n",
       "      <td>12</td>\n",
       "      <td>123</td>\n",
       "    </tr>\n",
       "    <tr>\n",
       "      <th>2</th>\n",
       "      <td>Test3</td>\n",
       "      <td>3</td>\n",
       "      <td>421</td>\n",
       "      <td>123</td>\n",
       "    </tr>\n",
       "    <tr>\n",
       "      <th>3</th>\n",
       "      <td>Test4</td>\n",
       "      <td>4</td>\n",
       "      <td>34</td>\n",
       "      <td>34</td>\n",
       "    </tr>\n",
       "  </tbody>\n",
       "</table>\n",
       "</div>"
      ],
      "text/plain": [
       "    Name  Column1  Column2  Column3\n",
       "0   Test       22      123      123\n",
       "1  TEst2        2       12      123\n",
       "2  Test3        3      421      123\n",
       "3  Test4        4       34       34"
      ]
     },
     "execution_count": 18,
     "metadata": {},
     "output_type": "execute_result"
    }
   ],
   "source": [
    "import pandas as pd\n",
    "import numpy as np\n",
    "import matplotlib.pyplot as plt\n",
    "import seaborn as sns\n",
    "sns.set(style='whitegrid')\n",
    "\n",
    "# Example 1: Here we are showing how to import data that is hosted somewhere else\n",
    "# (aka. website such as githubusercontent)\n",
    "url = 'https://raw.githubusercontent.com/mwaskom/seaborn-data/master/titanic.csv'\n",
    "df1 = pd.read_csv(url)\n",
    "df1.head()\n",
    "\n",
    "\n",
    "# Example 2: Here we are showing how to import data that is downloaded locally on your machine\n",
    "df2 = pd.read_csv(\"example1.csv\")\n",
    "df2.head()"
   ]
  },
  {
   "cell_type": "markdown",
   "id": "a17510c7",
   "metadata": {},
   "source": [
    "### 🔹 Data Inspection & Summary"
   ]
  },
  {
   "cell_type": "code",
   "execution_count": 19,
   "id": "219ab606",
   "metadata": {},
   "outputs": [
    {
     "ename": "NameError",
     "evalue": "name 'df' is not defined",
     "output_type": "error",
     "traceback": [
      "\u001b[0;31m---------------------------------------------------------------------------\u001b[0m",
      "\u001b[0;31mNameError\u001b[0m                                 Traceback (most recent call last)",
      "Cell \u001b[0;32mIn[19], line 1\u001b[0m\n\u001b[0;32m----> 1\u001b[0m \u001b[43mdf\u001b[49m\u001b[38;5;241m.\u001b[39minfo()\n\u001b[1;32m      2\u001b[0m df\u001b[38;5;241m.\u001b[39mdescribe()\n\u001b[1;32m      3\u001b[0m df\u001b[38;5;241m.\u001b[39misnull()\u001b[38;5;241m.\u001b[39msum()\n",
      "\u001b[0;31mNameError\u001b[0m: name 'df' is not defined"
     ]
    }
   ],
   "source": [
    "df.info()\n",
    "df.describe()\n",
    "df.isnull().sum()"
   ]
  },
  {
   "cell_type": "markdown",
   "id": "fa9ef6dc",
   "metadata": {},
   "source": [
    "### 🔹 Handling Missing Data"
   ]
  },
  {
   "cell_type": "code",
   "execution_count": null,
   "id": "1404cd4a",
   "metadata": {},
   "outputs": [],
   "source": [
    "df['age'] = df['age'].fillna(df['age'].mean())\n",
    "df.dropna(subset=['embarked'], inplace=True)"
   ]
  },
  {
   "cell_type": "markdown",
   "id": "8e32df32",
   "metadata": {},
   "source": [
    "### 🔹 Remove Duplicates"
   ]
  },
  {
   "cell_type": "code",
   "execution_count": null,
   "id": "b3ac8cba",
   "metadata": {},
   "outputs": [],
   "source": [
    "df = df.drop_duplicates()"
   ]
  },
  {
   "cell_type": "markdown",
   "id": "ada3dc97",
   "metadata": {},
   "source": [
    "### 🔹 Convert Data Types"
   ]
  },
  {
   "cell_type": "code",
   "execution_count": null,
   "id": "080d8ce0",
   "metadata": {},
   "outputs": [],
   "source": [
    "df['sex'] = df['sex'].astype('category')"
   ]
  },
  {
   "cell_type": "markdown",
   "id": "3ee61a06",
   "metadata": {},
   "source": [
    "### 🔹 Outlier Removal using IQR"
   ]
  },
  {
   "cell_type": "code",
   "execution_count": null,
   "id": "65a7b0b8",
   "metadata": {},
   "outputs": [],
   "source": [
    "Q1 = df['fare'].quantile(0.25)\n",
    "Q3 = df['fare'].quantile(0.75)\n",
    "IQR = Q3 - Q1\n",
    "filtered = df[(df['fare'] >= Q1 - 1.5*IQR) & (df['fare'] <= Q3 + 1.5*IQR)]"
   ]
  },
  {
   "cell_type": "markdown",
   "id": "c506202e",
   "metadata": {},
   "source": [
    "### 🔹 Feature Engineering"
   ]
  },
  {
   "cell_type": "code",
   "execution_count": null,
   "id": "ac5edb99",
   "metadata": {},
   "outputs": [],
   "source": [
    "df['family_size'] = df['sibsp'] + df['parch'] + 1\n",
    "df['fare_norm'] = (df['fare'] - df['fare'].min()) / (df['fare'].max() - df['fare'].min())"
   ]
  },
  {
   "cell_type": "markdown",
   "id": "4005ba9a",
   "metadata": {},
   "source": [
    "### 🔹 Filtering Rows with Conditions"
   ]
  },
  {
   "cell_type": "code",
   "execution_count": null,
   "id": "1d505ded",
   "metadata": {},
   "outputs": [],
   "source": [
    "high_fare = df[df['fare'] > 100]\n",
    "high_fare[['sex', 'fare']].head()"
   ]
  },
  {
   "cell_type": "markdown",
   "id": "f78784ff",
   "metadata": {},
   "source": [
    "### 🔹 Grouping and Aggregation"
   ]
  },
  {
   "cell_type": "code",
   "execution_count": null,
   "id": "99c7cf6c",
   "metadata": {},
   "outputs": [],
   "source": [
    "df.groupby('sex')['survived'].mean()"
   ]
  },
  {
   "cell_type": "markdown",
   "id": "a3db5242",
   "metadata": {},
   "source": [
    "### 🔹 Sorting Data"
   ]
  },
  {
   "cell_type": "code",
   "execution_count": null,
   "id": "0680aeb0",
   "metadata": {},
   "outputs": [],
   "source": [
    "df.sort_values(by='age', ascending=False).head()"
   ]
  },
  {
   "cell_type": "markdown",
   "id": "a8aa2f5b",
   "metadata": {},
   "source": [
    "### 🔹 Pandas Visualizations"
   ]
  },
  {
   "cell_type": "code",
   "execution_count": null,
   "id": "42f0b6bc",
   "metadata": {},
   "outputs": [],
   "source": [
    "sns.histplot(df['age'], bins=20, kde=True)\n",
    "plt.title('Age Distribution')\n",
    "plt.show()"
   ]
  },
  {
   "cell_type": "markdown",
   "id": "b001f6a8",
   "metadata": {},
   "source": [
    "### 🔹 Save and Load"
   ]
  },
  {
   "cell_type": "code",
   "execution_count": null,
   "id": "d8179ba0",
   "metadata": {},
   "outputs": [],
   "source": [
    "df.to_csv(\"cleaned_titanic.csv\", index=False)\n",
    "pd.read_csv(\"cleaned_titanic.csv\")"
   ]
  },
  {
   "cell_type": "markdown",
   "id": "c1ea6574",
   "metadata": {},
   "source": [
    "## SECTION 3: Scientific Data Analysis with Xarray"
   ]
  },
  {
   "cell_type": "code",
   "execution_count": null,
   "id": "0d7db3e6",
   "metadata": {},
   "outputs": [],
   "source": [
    "import xarray as xr\n",
    "xr.set_options(display_style='text')"
   ]
  },
  {
   "cell_type": "code",
   "execution_count": null,
   "id": "b2f8958c",
   "metadata": {},
   "outputs": [],
   "source": [
    "url = 'http://test.opendap.org/opendap/data/nc/coads_climatology.nc'\n",
    "ds = xr.open_dataset(url, decode_times=False)\n",
    "ds"
   ]
  },
  {
   "cell_type": "code",
   "execution_count": null,
   "id": "584a41d3",
   "metadata": {},
   "outputs": [],
   "source": [
    "sst = ds['SST']\n",
    "sst_clean = sst.where(sst > -1e30)"
   ]
  },
  {
   "cell_type": "markdown",
   "id": "fa77a2d0",
   "metadata": {},
   "source": [
    "### 🔹 Subset by Time and Region"
   ]
  },
  {
   "cell_type": "code",
   "execution_count": null,
   "id": "86a0e0f9",
   "metadata": {},
   "outputs": [],
   "source": [
    "sst_jan = sst_clean.isel(TIME=0)\n",
    "sst_region = sst_jan.sel(COADSY=slice(-10, 10), COADSX=slice(120, 240))"
   ]
  },
  {
   "cell_type": "code",
   "execution_count": null,
   "id": "96409ae4",
   "metadata": {},
   "outputs": [],
   "source": [
    "sst_region.plot(cmap='coolwarm')\n",
    "plt.title(\"Sea Surface Temp - Tropical Pacific\")\n",
    "plt.show()"
   ]
  },
  {
   "cell_type": "markdown",
   "id": "e461566a",
   "metadata": {},
   "source": [
    "### 🔹 Compute Stats"
   ]
  },
  {
   "cell_type": "code",
   "execution_count": null,
   "id": "e9fea186",
   "metadata": {},
   "outputs": [],
   "source": [
    "sst_mean = sst_clean.mean(dim='TIME')\n",
    "sst_mean.plot()\n",
    "plt.title(\"Mean SST\")\n",
    "plt.show()"
   ]
  },
  {
   "cell_type": "code",
   "execution_count": null,
   "id": "2e46af55",
   "metadata": {},
   "outputs": [],
   "source": [
    "flat = sst_region.values.flatten()\n",
    "flat = flat[~np.isnan(flat)]\n",
    "plt.hist(flat, bins=30)\n",
    "plt.title(\"Histogram of SST\")\n",
    "plt.show()"
   ]
  },
  {
   "cell_type": "markdown",
   "id": "59a6b05e",
   "metadata": {},
   "source": [
    "### 🔹 Export Subset"
   ]
  },
  {
   "cell_type": "code",
   "execution_count": null,
   "id": "a8456ecc",
   "metadata": {},
   "outputs": [],
   "source": [
    "sst_region.to_dataset(name='sst_subset').to_netcdf(\"sst_subset.nc\")"
   ]
  }
 ],
 "metadata": {
  "kernelspec": {
   "display_name": "Python 3 (ipykernel)",
   "language": "python",
   "name": "python3"
  },
  "language_info": {
   "codemirror_mode": {
    "name": "ipython",
    "version": 3
   },
   "file_extension": ".py",
   "mimetype": "text/x-python",
   "name": "python",
   "nbconvert_exporter": "python",
   "pygments_lexer": "ipython3",
   "version": "3.11.11"
  }
 },
 "nbformat": 4,
 "nbformat_minor": 5
}
