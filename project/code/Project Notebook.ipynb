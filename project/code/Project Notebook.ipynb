{
 "cells": [
  {
   "cell_type": "code",
   "execution_count": 45,
   "id": "aa0bdd06-bc8e-4661-a147-3868903d1efa",
   "metadata": {},
   "outputs": [],
   "source": [
    "import pandas as pd\n",
    "import numpy as np\n",
    "import matplotlib.pyplot as plt\n",
    "from datetime import datetime\n",
    "\n",
    "class SARP2025:\n",
    "    def __init__(self):\n",
    "        self.farm_locations = {\n",
    "            'Brandt_Calipatria': {'lat': 33.1598, 'lon': -115.5666, 'type': 'feedlot'},\n",
    "            'Brandt_Brawley': {'lat': 33.003, 'lon': -115.505, 'type': 'feedlot'},\n",
    "            'OWB_Packers': {'lat': 32.996, 'lon': -115.520, 'type': 'slaughterhouse'}\n",
    "        }\n",
    "        self.evidence = []\n",
    "    \n",
    "    def load_csv_data(self, filename_or_link):\n",
    "        try:\n",
    "            data = pd.read_csv(filename_or_link)\n",
    "            print(f\"✓ Loaded: {len(data)} rows, {len(data.columns)} columns\")\n",
    "            return data\n",
    "        except:\n",
    "            print(f\"Couldn't load {filename_or_link}\")\n",
    "            return None\n",
    "\n",
    "project = SARP2025()\n",
    "\n",
    "#### EVERY TIME I GET NEW DATA: project.log_evidence(\"your_link_here\", \"data_type\", \"what this data shows\")\n",
    "## Then add notes below it to detail what you've done"
   ]
  },
  {
   "cell_type": "code",
   "execution_count": null,
   "id": "9da06bd8-fbe9-472e-9507-8286ceb74158",
   "metadata": {},
   "outputs": [],
   "source": [
    "# Article/Study \n",
    "# Link to Article = https://insideclimatenews.org/news/18082023/californias-top-methane-emitter-is-cattle-feedlot/\n",
    "# Link to GitHub study = https://github.com/InsideClimateNews/2023-08-tx-ca-cattle-methane\n",
    "# 2023 study examining methane from different farms - identified Brandt as biggest methane emitter in CA \n",
    "# Reported that Brandt had 139,000 cows \n",
    "# Reported methane values of 9,167\n",
    "# Note: this study does calculations alone based on international averages \n",
    "# This study does not do \"ground truthing\" or use satellite spectrometry data \n",
    "# The \"satellite data\" they mention is used to visually (and AI) identify many cow farms on a map"
   ]
  },
  {
   "cell_type": "code",
   "execution_count": 5,
   "id": "322e3f62-e5db-46f6-87ce-aa7fd2c0f8f8",
   "metadata": {},
   "outputs": [],
   "source": [
    "# Link = https://www.ipcc-nggip.iges.or.jp/public/2019rf/pdf/4_Volume4/19R_V4_Ch10_Livestock.pdf\n",
    "# First, we need to find out how many kg manure each cow produces in a year. On page 56 we see:\n",
    "# North American (other cattle) = 7.6 KG VS (1000 KG ANIMAL MASS)-1 DAY-1\n",
    "# Cows aren't 1000kg though - on page 106 we see: \n",
    "# Average feedlot cattle weight = 500kg\n",
    "# 7.6 kg / 2 = 3.8 kg/day manure produced\n",
    "# Let's calculate how much methane is in these cow's manure, PER KG of manure (not per cow). Based on page 59, we see: \n",
    "# Methane emissions factor (manure) = 2.4 g CH₄ kg VS⁻¹.\n",
    "# (3.8 * 365) * 2.4 #  = 3328.7999 g CH₄ VS-1/year = total annual manure methane/cow/year\n",
    "# 3328.7999/(1000) = 3.3287 kg/methane/year\n",
    "manure_methane = 3.3287\n",
    "# We also need to find enteric emissions (burps/farts). Based on page 40, we see:\n",
    "enteric_methane = 64 # kg CH4 head-1 yr-1\n",
    "\n",
    "# We are also finding average N2O, as this is an indicator of asthma \n",
    "# Pg 92 shows that on dry lots, manure N2O: \n",
    "# 0.02 kg N₂O-N/kg N excreted per cow\n",
    "# x 365 days = 73 kg N/year total nitrogen\n",
    "# but, of this, only a bit converts into N2O, and it depends largely on how the manure is managed\n",
    "# We need to multiply 73 × 0.01 to see how much converts to N₂O-N\n",
    "# 73 * 0.01 = 0.73\n",
    "# But we also need to use the breakdown factor \n",
    "# 2 Nitrogen atoms: 2 × 14 = 28 g/mol (# times their molecular weight) \n",
    "# 1 Oxygen atom: 1 × 16 = 16 g/mol (# times their molecular weight) \n",
    "# Total N₂O: 28 + 16 = 44 g/mol\n",
    "# 44 g/mol ÷ 28 g/mol = 1.571\n",
    "# So we need to use the number 1.571 to see how much nitrogen is actually present out of the N2O molecule \n",
    "# 0.73 × 1.571 → Convert to how much nitrogen is in the N2O molecule \n",
    "# 1.15 kg N₂O/year/cow\n",
    "\n",
    "#Summary \n",
    "cow_methane = manure_methane + enteric_methane # = 67.328 kg methane /cow/year \n",
    "cow_n2o = 1.15 # kg N2O year/cow"
   ]
  },
  {
   "cell_type": "code",
   "execution_count": null,
   "id": "0e3193a0-0cb6-4d2c-8471-765a4cbce6c8",
   "metadata": {},
   "outputs": [],
   "source": [
    "# New evidence = California agriculture wastewater permits \n",
    "# General link = https://ciwqs.waterboards.ca.gov/ciwqs/readOnly/CiwqsReportServlet?inCommand=reset&reportName=RegulatedFacility\n",
    "# Animal-ag specific link = https://ciwqs.waterboards.ca.gov/ciwqs/readOnly/CiwqsReportServlet?reportID=6749788&newPageNumber=0&newPageSize=50\n",
    "# For Calipatria Brandt Feedlot = 2023 GitHub study reported 139000 cows \n",
    "# For Calipatria Brandt Feedlot = New permit documents 144910 cows\n",
    "# For OWB Packers slaughterhouse = New permit documents 797 cows \n",
    "# We can guess this is the manure equivelant of number of cows processed per day"
   ]
  },
  {
   "cell_type": "code",
   "execution_count": 7,
   "id": "2830febf-e3e2-40a9-8912-a4d4f536ba55",
   "metadata": {},
   "outputs": [
    {
     "name": "stdout",
     "output_type": "stream",
     "text": [
      "9358689.299999999\n",
      "159850.0\n",
      "9358.689299999998\n",
      "25640.244657534244\n",
      "437.94520547945206\n"
     ]
    }
   ],
   "source": [
    "# Average beef cattle lifespan = 1.5 years, so we can safely assume Brandt meets its 139,000 cattle capacity in a year\n",
    "brandt_cattle_23 = 139000\n",
    "brandt_year_methane_23 = brandt_cattle_23 * cow_methane\n",
    "brandt_year_n2o_23 = brandt_cattle_23 * cow_n2o\n",
    "brandt_year_metric_tons_23 = brandt_year_methane_23 / 1000\n",
    "\n",
    "print(brandt_year_methane_23) # = 9358689.2999 kg methane, or \n",
    "print(brandt_year_n2o_23) # = 159850.0 kg n2o \n",
    "print(brandt_year_metric_tons_23) # = 9358.689\n",
    "\n",
    "#so averaged by day\n",
    "brandt_day_methane_23 = brandt_year_methane_23 / 365 \n",
    "brandt_day_n2o_23 = brandt_year_n2o_23 / 365 \n",
    "\n",
    "print(brandt_day_methane_23) # = 25640 kg\n",
    "print(brandt_day_n2o_23) # = 437.945"
   ]
  },
  {
   "cell_type": "code",
   "execution_count": 12,
   "id": "4eb19dd9-4d40-400d-a561-95e6807960c3",
   "metadata": {},
   "outputs": [
    {
     "name": "stdout",
     "output_type": "stream",
     "text": [
      "9756601.917\n",
      "166646.5\n",
      "9756.601917\n",
      "166.6465\n",
      "26730.4162109589\n",
      "456.56575342465754\n",
      "26.730416210958904\n",
      "0.45656575342465755\n"
     ]
    }
   ],
   "source": [
    "# These calculations closely match 2023 Climate Trace data - approx 2% margin of error \n",
    "# Their estimate was 9,167\n",
    "# 2025 wastewater permits allow for 144,910 cows, not 139,000. Let's do that calculation to get 2025 methane in metric tons \n",
    "\n",
    "brandt_cattle_25 = 144910\n",
    "slaughterhouse_25 = 910\n",
    "brandt_year_methane_25 = brandt_cattle_25 * cow_methane\n",
    "brandt_year_n2o_25 = brandt_cattle_25 * cow_n2o\n",
    "brandt_year_metric_tons_methane_25 = brandt_year_methane_25 / 1000\n",
    "brandt_year_metric_tons_n2o_25 = brandt_year_n2o_25 / 1000\n",
    "\n",
    "print(brandt_year_methane_25) # = 9756601.90 kg methane, or \n",
    "print(brandt_year_n2o_25) # = 166646.5 kg n2o \n",
    "print(brandt_year_metric_tons_methane_25) # 9756.601917 tons methane\n",
    "print(brandt_year_metric_tons_n2o_25) # = 166.6465 tons n2o\n",
    "\n",
    "#so averaged by day\n",
    "brandt_day_methane_25 = brandt_year_methane_25 / 365 = \n",
    "brandt_day_n2o_25 = brandt_year_n2o_25 / 365 \n",
    "brandt_day_metric_tons_methane_25 = brandt_year_metric_tons_methane_25 / 365\n",
    "brandt_day_metric_tons_no2 = brandt_year_metric_tons_n2o_25 / 365\n",
    "\n",
    "print(brandt_day_methane_25) # = 26730.41 kg\n",
    "print(brandt_day_n2o_25) # = 456.56 kg\n",
    "print(brandt_day_metric_tons_methane_25) # 26.730\n",
    "print(brandt_day_metric_tons_no2) # = # 0.4565\n",
    "\n",
    "#this is notably more methane "
   ]
  },
  {
   "cell_type": "code",
   "execution_count": 46,
   "id": "c93b39a5-4546-45f9-bc23-350c564fa1c5",
   "metadata": {},
   "outputs": [],
   "source": [
    "# New evidence = California Climate Investments Project Map \n",
    "# Link = https://experience.arcgis.com/experience/3ab9207fa18a4597bd4c52eccd570b6c\n",
    "# This map shows farms, businesses, municipalities in the Imperial Valley area that have applied for emissions-reducing grants \n",
    "# This methodolgy was used by Climate Trace to provide GHG calculation cuts to participating entities \n",
    "# Many dairies and feedlots have applied for these grants \n",
    "# Brandt and OWB packers do not have any recorded grant projects \n",
    "# As no GHG-reducing projects are underway, it can be assumed that total emissions are similar to calculated values "
   ]
  },
  {
   "cell_type": "code",
   "execution_count": null,
   "id": "fb364609-a9a0-45c4-bc43-47de07ca4f36",
   "metadata": {},
   "outputs": [],
   "source": [
    "# Source = Western Regional Climate Center (WRCC) wind averages\n",
    "# Link = https://wrcc.dri.edu/Climate/comp_table_show.php?stype=wind_dir_avg\n",
    "# Prevailing year-round wind direction at imperial valley airport (near el centro) is W "
   ]
  },
  {
   "cell_type": "code",
   "execution_count": null,
   "id": "e3df9d9a-b307-43c8-8fdf-10844cf4bb54",
   "metadata": {},
   "outputs": [],
   "source": [
    "# New evidence = SARP methane levels across California interest area \n",
    "# This calculation was done to demonstrate statistical signifcance of methane release from Brandt area \n",
    "# Overall methane looks comparaitvely miniscule compared to LA-area \n",
    "# Excel sheet: Methane Background Values.csv\n",
    "# 20 Average background methane values LA = [2.1601, 2.1689, 2.1643, 2.1604, 2.1604, 2.161, 2.1555, 2.1605, 2.1511, 2.1511, 2.1589, 2.1594, 2.1594, 2.1562, 2.164, 2.1556, 2.1556, 2.849, 2.1451, 2.1741] \n",
    "# Average background methane LA = 2.194552632\n",
    "# Average spike methane LA = 2.27812 \n",
    "# Difference = 0.083567368\n",
    "# Percent difference = 3.8%\n",
    "# 20 Average background methane values Imperial = [1.9355, 1.935, 1.9353, 1.935, 1.9351, 1.9354, 1.9357 1.9351, 1.9352, 1.9356, 1.9352, 1.9349, 1.9352, 1.9347, 1.9343, 1.9348, 1.9355, 1.9352, 1.9348, 1.9485]\n",
    "# Average background methane Imperial = 1.9358\n",
    "# Average spike methane Imperial = 2.01672\n",
    "# Difference = 0.08092\n",
    "# Percent difference = 4.2% \n",
    "# Methane spikes are higher in Imperial compared to the area's average "
   ]
  },
  {
   "cell_type": "code",
   "execution_count": null,
   "id": "1553c3c8-8f0e-4b91-9e20-1b3984799311",
   "metadata": {},
   "outputs": [],
   "source": [
    "# EPA air quality monitors in Imperial Valley\n",
    "# Raw data: New Epa Monitor Data.xlsx\n",
    "# Data summary: EPA monitor analysis.ipynb\n",
    "# Link used to download files: https://www.epa.gov/outdoor-air-quality-data/download-daily-data\n",
    "# One dataset from 2018 (when asthma study was conducted), one from 2024 (latest)\n",
    "# Brawley had highest rates of PMs, followed by Westmorland, which is NW of Brawley \n",
    "# 2018 rates were notably worse than 2024 rates\n",
    "# I didn't use any of these downloads but could still be a helpful future source: https://www.epa.gov/hesc/rsig-related-downloadable-data-files"
   ]
  },
  {
   "cell_type": "code",
   "execution_count": 1,
   "id": "dcb14140-0f3f-4f45-91fe-298adaf5a7d4",
   "metadata": {},
   "outputs": [],
   "source": [
    "# California Department of Public Health report\n",
    "# Link: https://www.cdph.ca.gov/Programs/CCDPHP/DEODC/EHIB/CPE/Pages/CaliforniaBreathingCountyAsthmaProfiles.aspx\n",
    "# Example: in 2017/2018, asthma in children ages 0-17 was 89.1% higher than in the rest of california (current asthma prevalence) \n",
    "# Downloaded this file and removed all non California/Imperial values \n",
    "# File: Percent Asthma California Imperial.xlsx\n",
    "# This file can be plotted graphically to show rates of Imperial asthma vs California averages\n",
    "# Imperial rates are higher in every age group and every year (I think)"
   ]
  },
  {
   "cell_type": "code",
   "execution_count": null,
   "id": "a94cf86f-9611-4442-8e67-00d336abc1aa",
   "metadata": {},
   "outputs": [],
   "source": [
    "# Imperial valley asthma evidence\n",
    "# Link: https://pmc.ncbi.nlm.nih.gov/articles/PMC6843482/#B8-ijerph-16-03828 \n",
    "# This study was done with take-home packets for parents to fill out \n",
    "# Asked parents if their children have ever been diagnosed with asthma by a doctor\n",
    "# \"Elementary school children in northern Imperial Valley show asthma rates of 22.4% \n",
    "# nearly three times the national average for Mexican-American children (6.2%) \n",
    "# and 2.5 times higher than the national average for all children ages 5-11 (8.8%).\"\n",
    "# This data was collected in 2018"
   ]
  },
  {
   "cell_type": "code",
   "execution_count": null,
   "id": "f48a58d8-082f-4848-93f6-f979cba4a02f",
   "metadata": {},
   "outputs": [],
   "source": [
    "# INCREDIBLE, GOLD STANDARD Demographic data \n",
    "# Link to downloading site: https://oehha.ca.gov/calenviroscreen/report/calenviroscreen-40\n",
    "# Downloaded raw data file that is used by Cal EnviroScreen ArcGIS mapping tool\n",
    "# Link: Cal Enviro Screen Data.xlsx\n",
    "# Contains raw data defined by data dictionary, coupled with percentiles to contextualize\n",
    "# I removed all other counties and some unincorporated counties in Imperial\n",
    "# Asthma and cardiovascular disease based on emergency room visits per 10,000\n",
    "# Good to have both this AND the elementary school study \n",
    "# With this I have all of the demographic data I need \n",
    "# Cal EnviroScreen is a verifiable, trusted source that contains data from hundreds of federal agencies\n",
    "# Good to use becuase it is federally-reviewed and verifiable --> NOT a cop out! just good real data\n",
    "# It would be less traceable and less accurate to DIY it over using their raw data sources\n",
    "# Next: Download their map into ArcGIS (from site) to get GIS experience and say I mapped this stuff in my final presentation"
   ]
  },
  {
   "cell_type": "code",
   "execution_count": null,
   "id": "c7828dcf-f32b-4555-96a7-5b775777c560",
   "metadata": {},
   "outputs": [],
   "source": []
  }
 ],
 "metadata": {
  "kernelspec": {
   "display_name": "Python 3 (ipykernel)",
   "language": "python",
   "name": "python3"
  },
  "language_info": {
   "codemirror_mode": {
    "name": "ipython",
    "version": 3
   },
   "file_extension": ".py",
   "mimetype": "text/x-python",
   "name": "python",
   "nbconvert_exporter": "python",
   "pygments_lexer": "ipython3",
   "version": "3.11.11"
  }
 },
 "nbformat": 4,
 "nbformat_minor": 5
}
